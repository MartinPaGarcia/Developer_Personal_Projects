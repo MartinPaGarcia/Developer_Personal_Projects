{
 "cells": [
  {
   "cell_type": "code",
   "execution_count": 9,
   "metadata": {},
   "outputs": [],
   "source": [
    "import pandas as pd\n",
    "import numpy as np\n",
    "import matplotlib.pyplot as plt\n"
   ]
  },
  {
   "cell_type": "markdown",
   "metadata": {},
   "source": [
    "# Importamos el archivo"
   ]
  },
  {
   "cell_type": "code",
   "execution_count": 10,
   "metadata": {},
   "outputs": [],
   "source": [
    "archivo = \"./DataFrame_revision\""
   ]
  },
  {
   "cell_type": "markdown",
   "metadata": {},
   "source": [
    "## Lectura de archivo, si no es correcta, arrojará el error encontrado"
   ]
  },
  {
   "cell_type": "code",
   "execution_count": 16,
   "metadata": {},
   "outputs": [
    {
     "name": "stdout",
     "output_type": "stream",
     "text": [
      "El archivo es un archivo CSV\n"
     ]
    }
   ],
   "source": [
    "try:\n",
    "    df = pd.read_csv(archivo)\n",
    "    print(\"El archivo es un archivo CSV\")\n",
    "    \n",
    "\n",
    "except Exception as e:\n",
    "    print(\"Error: \", e)"
   ]
  },
  {
   "cell_type": "markdown",
   "metadata": {},
   "source": [
    "## Imprimir el promedio de X"
   ]
  },
  {
   "cell_type": "code",
   "execution_count": 22,
   "metadata": {},
   "outputs": [
    {
     "name": "stdout",
     "output_type": "stream",
     "text": [
      "La media de la columna X es: 7.4993\n"
     ]
    }
   ],
   "source": [
    "media = df[\"X\"].mean().round(4)\n",
    "print(f\"La media de la columna X es: {media}\")"
   ]
  },
  {
   "cell_type": "markdown",
   "metadata": {},
   "source": [
    "## Imprimir el cuartil 25 de Z"
   ]
  },
  {
   "cell_type": "code",
   "execution_count": 20,
   "metadata": {},
   "outputs": [
    {
     "name": "stdout",
     "output_type": "stream",
     "text": [
      "0        -78.412058\n",
      "1        -67.590587\n",
      "2        -61.391691\n",
      "3        -45.998960\n",
      "4        -51.007396\n",
      "            ...    \n",
      "999995   -40.486301\n",
      "999996   -53.402532\n",
      "999997   -48.716211\n",
      "999998   -10.023712\n",
      "999999   -70.603784\n",
      "Name: X_Y, Length: 1000000, dtype: float64\n"
     ]
    }
   ],
   "source": [
    "df[\"X_Y\"] = df[\"X\"] - df[\"Y\"]\n",
    "print(df[\"X_Y\"])"
   ]
  },
  {
   "cell_type": "markdown",
   "metadata": {},
   "source": [
    "## Definir un nuevo Dataframe que seleccione los datos que tengan a x entre 3 y 5"
   ]
  },
  {
   "cell_type": "code",
   "execution_count": 23,
   "metadata": {},
   "outputs": [],
   "source": [
    "datos_2 = df[(df[\"X\"] >= 3) & (df[\"X\"] <= 5)]"
   ]
  },
  {
   "cell_type": "markdown",
   "metadata": {},
   "source": [
    "### Definir un nuevo Dataframe que corte los datos en la variable W, y almacene aquellos... No se especifica en el pizarron"
   ]
  },
  {
   "cell_type": "code",
   "execution_count": 25,
   "metadata": {},
   "outputs": [],
   "source": [
    "# En las instrucciones viene cortada esa parte, pero lo dejaré mayor que 0\n",
    "\n",
    "datos_3 = df[df[\"W\"] > 0]"
   ]
  }
 ],
 "metadata": {
  "kernelspec": {
   "display_name": "Python 3",
   "language": "python",
   "name": "python3"
  },
  "language_info": {
   "codemirror_mode": {
    "name": "ipython",
    "version": 3
   },
   "file_extension": ".py",
   "mimetype": "text/x-python",
   "name": "python",
   "nbconvert_exporter": "python",
   "pygments_lexer": "ipython3",
   "version": "3.9.6"
  },
  "orig_nbformat": 4
 },
 "nbformat": 4,
 "nbformat_minor": 2
}
